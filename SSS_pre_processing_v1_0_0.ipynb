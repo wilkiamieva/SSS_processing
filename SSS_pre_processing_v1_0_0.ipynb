{
  "nbformat": 4,
  "nbformat_minor": 0,
  "metadata": {
    "colab": {
      "provenance": [],
      "authorship_tag": "ABX9TyOPoaSn+wUmij+BbeCJf6E3"
    },
    "kernelspec": {
      "name": "python3",
      "display_name": "Python 3"
    },
    "language_info": {
      "name": "python"
    }
  },
  "cells": [
    {
      "cell_type": "markdown",
      "source": [
        "# SSS pre-processing v1.0.0\n",
        "\n",
        "This notebook addresses an issue with some sound source separation (SSS) routines in which the output files are truncated a few samples with each iteration, by appending silence samples as a buffer. A separate notebook (SSS post-processing) shall truncate the files to restore them to the original number of samples."
      ],
      "metadata": {
        "id": "n3TvJBBn4gEA"
      }
    },
    {
      "cell_type": "markdown",
      "source": [
        "## Dependencies management\n",
        "\n",
        "SoundFile, MoviePy and NumPy packages are installed and imported. OS, Wave, SoundFile, AudioFileClip and NumPy packages are imported. Google Drive is also imported."
      ],
      "metadata": {
        "id": "p1FD82GBLj2m"
      }
    },
    {
      "cell_type": "code",
      "source": [
        "# Install necessary dependencies\n",
        "!pip install soundfile moviepy numpy\n",
        "\n",
        "# Import required libraries\n",
        "import os\n",
        "import wave\n",
        "import soundfile as sf\n",
        "from moviepy.editor import AudioFileClip\n",
        "import numpy as np\n",
        "import csv\n",
        "from google.colab import drive"
      ],
      "metadata": {
        "colab": {
          "base_uri": "https://localhost:8080/"
        },
        "id": "RhiHlxa24lFY",
        "outputId": "5c259ff7-f8f6-4c8a-b1d8-8dc5c0574a49"
      },
      "execution_count": 16,
      "outputs": [
        {
          "output_type": "stream",
          "name": "stdout",
          "text": [
            "Requirement already satisfied: soundfile in /usr/local/lib/python3.10/dist-packages (0.12.1)\n",
            "Requirement already satisfied: moviepy in /usr/local/lib/python3.10/dist-packages (1.0.3)\n",
            "Requirement already satisfied: numpy in /usr/local/lib/python3.10/dist-packages (1.26.4)\n",
            "Requirement already satisfied: cffi>=1.0 in /usr/local/lib/python3.10/dist-packages (from soundfile) (1.17.1)\n",
            "Requirement already satisfied: decorator<5.0,>=4.0.2 in /usr/local/lib/python3.10/dist-packages (from moviepy) (4.4.2)\n",
            "Requirement already satisfied: tqdm<5.0,>=4.11.2 in /usr/local/lib/python3.10/dist-packages (from moviepy) (4.66.5)\n",
            "Requirement already satisfied: requests<3.0,>=2.8.1 in /usr/local/lib/python3.10/dist-packages (from moviepy) (2.32.3)\n",
            "Requirement already satisfied: proglog<=1.0.0 in /usr/local/lib/python3.10/dist-packages (from moviepy) (0.1.10)\n",
            "Requirement already satisfied: imageio<3.0,>=2.5 in /usr/local/lib/python3.10/dist-packages (from moviepy) (2.35.1)\n",
            "Requirement already satisfied: imageio-ffmpeg>=0.2.0 in /usr/local/lib/python3.10/dist-packages (from moviepy) (0.5.1)\n",
            "Requirement already satisfied: pycparser in /usr/local/lib/python3.10/dist-packages (from cffi>=1.0->soundfile) (2.22)\n",
            "Requirement already satisfied: pillow>=8.3.2 in /usr/local/lib/python3.10/dist-packages (from imageio<3.0,>=2.5->moviepy) (10.4.0)\n",
            "Requirement already satisfied: setuptools in /usr/local/lib/python3.10/dist-packages (from imageio-ffmpeg>=0.2.0->moviepy) (71.0.4)\n",
            "Requirement already satisfied: charset-normalizer<4,>=2 in /usr/local/lib/python3.10/dist-packages (from requests<3.0,>=2.8.1->moviepy) (3.3.2)\n",
            "Requirement already satisfied: idna<4,>=2.5 in /usr/local/lib/python3.10/dist-packages (from requests<3.0,>=2.8.1->moviepy) (3.10)\n",
            "Requirement already satisfied: urllib3<3,>=1.21.1 in /usr/local/lib/python3.10/dist-packages (from requests<3.0,>=2.8.1->moviepy) (2.0.7)\n",
            "Requirement already satisfied: certifi>=2017.4.17 in /usr/local/lib/python3.10/dist-packages (from requests<3.0,>=2.8.1->moviepy) (2024.8.30)\n"
          ]
        }
      ]
    },
    {
      "cell_type": "markdown",
      "source": [
        "## Configuration\n",
        "\n",
        "The notebook will process every audio file in the input folder and the results will be saved in the output folder. In this cell, the input and output folders shall be specified. Please adjust the paths as needed. By default, Google Drive is mounted."
      ],
      "metadata": {
        "id": "7guEAS6rM3QV"
      }
    },
    {
      "cell_type": "code",
      "source": [
        "# Mount Google Drive, delete if no needed.\n",
        "drive.mount('/content/drive')\n",
        "\n",
        "# Configure input and output folders\n",
        "input_folder = '/content/drive/MyDrive/SSS_tools/pre_input'  # Replace with your input folder\n",
        "output_folder = '/content/drive/MyDrive/SSS_tools/pre_output'  # Replace with your output folder\n",
        "\n",
        "# Ensure the output folder exists\n",
        "if not os.path.exists(output_folder):\n",
        "    os.makedirs(output_folder)\n",
        "\n",
        "print(f\"Input folder: {input_folder}\")\n",
        "print(f\"Output folder: {output_folder}\")"
      ],
      "metadata": {
        "colab": {
          "base_uri": "https://localhost:8080/"
        },
        "id": "RXFNp2F75U4l",
        "outputId": "0c9b6b64-91c0-43fd-dfb1-680b4189a215"
      },
      "execution_count": 17,
      "outputs": [
        {
          "output_type": "stream",
          "name": "stdout",
          "text": [
            "Drive already mounted at /content/drive; to attempt to forcibly remount, call drive.mount(\"/content/drive\", force_remount=True).\n",
            "Input folder: /content/drive/MyDrive/SSS_processing/pre_input\n",
            "Output folder: /content/drive/MyDrive/SSS_processing/pre_output\n"
          ]
        }
      ]
    },
    {
      "cell_type": "markdown",
      "source": [
        "# Sample data extraction\n",
        "\n",
        "Defines a function to extract the number of samples and sample rate of an audio file."
      ],
      "metadata": {
        "id": "-_Yp-5Cf4hDo"
      }
    },
    {
      "cell_type": "code",
      "source": [
        "def get_audio_samples(file_path):\n",
        "    # Check file extension to decide the method of reading\n",
        "    if file_path.endswith((\".wav\", \".aiff\", \".aif\")):\n",
        "        with wave.open(file_path, 'rb') as audio_file:\n",
        "            num_samples = audio_file.getnframes()  # Get original number of samples\n",
        "            sample_rate = audio_file.getframerate()  # Get sample rate\n",
        "    elif file_path.endswith(\".flac\"):\n",
        "        data, sample_rate = sf.read(file_path)  # Get sample rate\n",
        "        num_samples = len(data)  # Get original number of samples\n",
        "    elif file_path.endswith((\".mp4\", \".aac\", \".mp3\", \".mka\", \".mkv\")):\n",
        "        clip = AudioFileClip(file_path)\n",
        "        data = clip.to_soundarray()\n",
        "        num_samples = len(data)  # Get original number of samples\n",
        "        sample_rate = clip.fps  # Get sample rate\n",
        "        clip.close()\n",
        "    else:\n",
        "        raise ValueError(\"Unsupported file format\")\n",
        "\n",
        "    return num_samples, sample_rate # Return both values"
      ],
      "metadata": {
        "id": "iI0qcrcD4hrW"
      },
      "execution_count": 18,
      "outputs": []
    },
    {
      "cell_type": "markdown",
      "source": [
        "# Silence appending\n",
        "\n",
        "Defines a function to add 4000 samples of silence to the end of an audio file  as a buffer."
      ],
      "metadata": {
        "id": "lqomWO1fG0GB"
      }
    },
    {
      "cell_type": "code",
      "source": [
        "def add_silence(data, silence_samples=4000):\n",
        "    # Create silence array with 4000 samples\n",
        "    silence = np.zeros((silence_samples, data.shape[1] if data.ndim > 1 else 1))\n",
        "\n",
        "    # Append silence to the original audio\n",
        "    new_data = np.vstack((data, silence))\n",
        "\n",
        "    return new_data"
      ],
      "metadata": {
        "id": "Rl3t_dv_G0UY"
      },
      "execution_count": 19,
      "outputs": []
    },
    {
      "cell_type": "markdown",
      "source": [
        "# Execution\n",
        "\n",
        "Execution of the above functions requires files with audio content as Wave (.wav), AIFF (.aiff or .aiff), FLAC (.flac), MP3 (.mp3) or AAC (.aac) formats in the input folder.\n",
        "\n",
        "Results are saved in the output folder. Audio files are saved in FLAC format. Data of original number of samples are saved as CSV files (.csv), one for each input image."
      ],
      "metadata": {
        "id": "mBDc2v3EG194"
      }
    },
    {
      "cell_type": "code",
      "source": [
        "def process_audio_folder(input_folder, output_folder):\n",
        "    if not os.path.exists(output_folder):\n",
        "        os.makedirs(output_folder)\n",
        "\n",
        "    for file_name in os.listdir(input_folder):\n",
        "        if file_name.endswith((\".wav\", \".aiff\", \".aif\", \".flac\", \".mp3\", \".aac\", \".mp4\", \".mka\", \".mkv\")):\n",
        "            # Step 1: Get the full input path, the number of samples and sample rate\n",
        "            input_path = os.path.join(input_folder, file_name)\n",
        "            num_samples, sample_rate = get_audio_samples(input_path)\n",
        "\n",
        "            # Step 2: Load the audio data\n",
        "            if input_path.endswith((\".wav\", \".aiff\", \".aif\", \".flac\")):\n",
        "                data, samplerate = sf.read(input_path)\n",
        "            elif input_path.endswith((\".mp3\", \".aac\", \".mp4\", \".mka\", \".mkv\")):\n",
        "                clip = AudioFileClip(input_path)\n",
        "                data = clip.to_soundarray()\n",
        "                samplerate = clip.fps\n",
        "                clip.close()\n",
        "            else:\n",
        "                raise ValueError(\"Unsupported file format\")\n",
        "\n",
        "            # Step 3: Add silence to the audio data\n",
        "            new_data = add_silence(data)\n",
        "\n",
        "            # Step 4: Save the new audio to the output folder with the same file name and in FLAC format\n",
        "            output_file_name = os.path.splitext(file_name)[0] + \".flac\"\n",
        "            sf.write(os.path.join(output_folder, output_file_name), new_data, samplerate)\n",
        "\n",
        "            # Step 5: Save the number of samples and sample rate to a CSV file\n",
        "            csv_file = os.path.join(output_folder, os.path.splitext(file_name)[0] + \".csv\")\n",
        "            with open(csv_file, mode='w', newline='') as file:\n",
        "                writer = csv.writer(file)\n",
        "                writer.writerow([\"Original Samples\", \"Sample Rate\"])\n",
        "                writer.writerow([num_samples, sample_rate]) # Write both values\n",
        "\n",
        "            # Print the number of samples and sample rate for each processed file\n",
        "            print(f\"File: {file_name}, Original Samples: {num_samples}, Sample Rate: {sample_rate}\")\n",
        "            print(f\"Added {4000} samples of silence to {file_name}\")\n",
        "\n",
        "# Example usage (optional):\n",
        "process_audio_folder(input_folder, output_folder)"
      ],
      "metadata": {
        "colab": {
          "base_uri": "https://localhost:8080/"
        },
        "id": "dueLRvSAG0ug",
        "outputId": "dd0f73c8-b4ec-4d86-dabb-982fc4cda96b"
      },
      "execution_count": 20,
      "outputs": [
        {
          "output_type": "stream",
          "name": "stdout",
          "text": [
            "File: 19. Pequeña Desviación En La Conducta De Los Reyes Magos_000.flac, Original Samples: 6290415, Sample Rate: 44100\n",
            "Added 4000 samples of silence to 19. Pequeña Desviación En La Conducta De Los Reyes Magos_000.flac\n"
          ]
        }
      ]
    },
    {
      "cell_type": "markdown",
      "source": [
        "## Version history\n",
        "\n",
        "v1.0.0 Initial release on 2024-09-21."
      ],
      "metadata": {
        "id": "ruUS-I1oPhxc"
      }
    },
    {
      "cell_type": "markdown",
      "source": [
        "## To do\n",
        "\n",
        "-"
      ],
      "metadata": {
        "id": "-keWUi_rPhcc"
      }
    },
    {
      "cell_type": "markdown",
      "source": [
        "## Author information\n",
        "\n",
        "Wilki Amieva\n",
        "\n",
        "wilki@hgprods.com.ar."
      ],
      "metadata": {
        "id": "GuSGkx8YPhD0"
      }
    }
  ]
}
