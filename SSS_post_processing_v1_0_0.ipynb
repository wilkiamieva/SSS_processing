{
  "nbformat": 4,
  "nbformat_minor": 0,
  "metadata": {
    "colab": {
      "provenance": [],
      "authorship_tag": "ABX9TyPW/WWsbXCTWuJf79wLD01w",
      "include_colab_link": true
    },
    "kernelspec": {
      "name": "python3",
      "display_name": "Python 3"
    },
    "language_info": {
      "name": "python"
    }
  },
  "cells": [
    {
      "cell_type": "markdown",
      "metadata": {
        "id": "view-in-github",
        "colab_type": "text"
      },
      "source": [
        "<a href=\"https://colab.research.google.com/github/wilkiamieva/SSS_tools/blob/main/SSS_post_processing_v1_0_0.ipynb\" target=\"_parent\"><img src=\"https://colab.research.google.com/assets/colab-badge.svg\" alt=\"Open In Colab\"/></a>"
      ]
    },
    {
      "cell_type": "markdown",
      "source": [
        "# SSS post-processing v1.0.0\n",
        "\n",
        "**Warning:** Audio files should be pre-processed before SSS with a separate notebook (SSS pre-processing).\n",
        "\n",
        "This notebook truncates the SSS output files to the lenght of the original files. This should be run after SSS processing."
      ],
      "metadata": {
        "id": "n3TvJBBn4gEA"
      }
    },
    {
      "cell_type": "markdown",
      "source": [
        "## Dependencies management\n",
        "\n",
        "Pandas, SoundFile and PyDub packages are installed and imported. OS, Pandas, SoundFile and AudioSegment packages are imported. Google Drive is also imported."
      ],
      "metadata": {
        "id": "p1FD82GBLj2m"
      }
    },
    {
      "cell_type": "code",
      "source": [
        "# Install necessary dependencies\n",
        "!pip install pandas soundfile pydub\n",
        "\n",
        "# Import required libraries\n",
        "import os\n",
        "import pandas as pd\n",
        "import soundfile as sf\n",
        "from pydub import AudioSegment\n",
        "from google.colab import drive"
      ],
      "metadata": {
        "colab": {
          "base_uri": "https://localhost:8080/"
        },
        "id": "RhiHlxa24lFY",
        "outputId": "6cd6290e-822d-443f-f756-b9e88d690f2e"
      },
      "execution_count": 1,
      "outputs": [
        {
          "output_type": "stream",
          "name": "stdout",
          "text": [
            "Requirement already satisfied: pandas in /usr/local/lib/python3.10/dist-packages (2.1.4)\n",
            "Requirement already satisfied: soundfile in /usr/local/lib/python3.10/dist-packages (0.12.1)\n",
            "Collecting pydub\n",
            "  Downloading pydub-0.25.1-py2.py3-none-any.whl.metadata (1.4 kB)\n",
            "Requirement already satisfied: numpy<2,>=1.22.4 in /usr/local/lib/python3.10/dist-packages (from pandas) (1.26.4)\n",
            "Requirement already satisfied: python-dateutil>=2.8.2 in /usr/local/lib/python3.10/dist-packages (from pandas) (2.8.2)\n",
            "Requirement already satisfied: pytz>=2020.1 in /usr/local/lib/python3.10/dist-packages (from pandas) (2024.2)\n",
            "Requirement already satisfied: tzdata>=2022.1 in /usr/local/lib/python3.10/dist-packages (from pandas) (2024.1)\n",
            "Requirement already satisfied: cffi>=1.0 in /usr/local/lib/python3.10/dist-packages (from soundfile) (1.17.1)\n",
            "Requirement already satisfied: pycparser in /usr/local/lib/python3.10/dist-packages (from cffi>=1.0->soundfile) (2.22)\n",
            "Requirement already satisfied: six>=1.5 in /usr/local/lib/python3.10/dist-packages (from python-dateutil>=2.8.2->pandas) (1.16.0)\n",
            "Downloading pydub-0.25.1-py2.py3-none-any.whl (32 kB)\n",
            "Installing collected packages: pydub\n",
            "Successfully installed pydub-0.25.1\n"
          ]
        }
      ]
    },
    {
      "cell_type": "markdown",
      "source": [
        "## Configuration\n",
        "\n",
        "The notebook will process every audio file in the input folder and the results will be saved in the output folder. Please adjust the paths as needed. By default, Google Drive is mounted.\n",
        "\n",
        "In this cell, the input and output folders shall be specified. The code will check for CSV files (.csv) with the needed fields ('Original Samples' and 'Sample Rate') and that there are audio files in Wave (.wav), AIFF (.aiff or .aiff) or FLAC (.flac) formats with their names starting as the CSV filenames."
      ],
      "metadata": {
        "id": "7guEAS6rM3QV"
      }
    },
    {
      "cell_type": "code",
      "source": [
        "# Mount Google Drive, delete if no needed.\n",
        "drive.mount('/content/drive')\n",
        "\n",
        "# Configure input and output folders\n",
        "input_folder = '/content/drive/MyDrive/SSS_tools/post_input'  # Replace with your input folder\n",
        "output_folder = '/content/drive/MyDrive/SSS_tools/post_output'  # Replace with your output folder\n",
        "\n",
        "# Ensure the output folder exists\n",
        "if not os.path.exists(output_folder):\n",
        "    os.makedirs(output_folder)\n",
        "\n",
        "# Function to find CSV and corresponding audio files\n",
        "def find_audio_files(input_folder):\n",
        "    audio_files = []\n",
        "\n",
        "    for file_name in os.listdir(input_folder):\n",
        "        if file_name.endswith(\".csv\"):\n",
        "            csv_path = os.path.join(input_folder, file_name)\n",
        "            df = pd.read_csv(csv_path)\n",
        "\n",
        "            # Check for required columns\n",
        "            if 'Original Samples' in df.columns and 'Sample Rate' in df.columns:\n",
        "                base_name = os.path.splitext(file_name)[0]\n",
        "\n",
        "                # Find audio files that start with the CSV base name\n",
        "                for audio_file in os.listdir(input_folder):\n",
        "                    if audio_file.startswith(base_name) and audio_file.endswith((\".wav\", \".aiff\", \".aif\", \".flac\", \".mp3\", \".aac\")):\n",
        "                        audio_files.append((audio_file, csv_path))\n",
        "\n",
        "    return audio_files\n",
        "\n",
        "# Get the list of audio files and corresponding CSV files\n",
        "audio_file_list = find_audio_files(input_folder)\n",
        "print(f\"Found audio files: {audio_file_list}\")"
      ],
      "metadata": {
        "colab": {
          "base_uri": "https://localhost:8080/"
        },
        "id": "RXFNp2F75U4l",
        "outputId": "04d590be-8454-4511-a849-de07830451fc"
      },
      "execution_count": 2,
      "outputs": [
        {
          "output_type": "stream",
          "name": "stdout",
          "text": [
            "Mounted at /content/drive\n",
            "Found audio files: [('19. Pequeña Desviación En La Conducta De Los Reyes Magos_000.flac', '/content/drive/MyDrive/SSS_processing/pre_output/19. Pequeña Desviación En La Conducta De Los Reyes Magos_000.csv')]\n"
          ]
        }
      ]
    },
    {
      "cell_type": "markdown",
      "source": [
        "## Audio truncation\n",
        "\n",
        "Defines a function to truncate the lenght of an audio file."
      ],
      "metadata": {
        "id": "-_Yp-5Cf4hDo"
      }
    },
    {
      "cell_type": "code",
      "source": [
        "def truncate_audio_file(audio_file, csv_path):\n",
        "    # Read the CSV to get required values\n",
        "    df = pd.read_csv(csv_path)\n",
        "    num_samples = df['Original Samples'].iloc[0]\n",
        "\n",
        "    # Determine the file path\n",
        "    audio_path = os.path.join(input_folder, audio_file)\n",
        "\n",
        "    # Process the audio files based on format\n",
        "    if audio_file.endswith((\".wav\", \".flac\", \".aiff\", \".aif\")):\n",
        "        data, samplerate = sf.read(audio_path)\n",
        "        truncated_data = data[:num_samples]\n",
        "        output_path = os.path.join(output_folder, audio_file)\n",
        "        sf.write(output_path, truncated_data, samplerate)\n",
        "\n",
        "    elif audio_file.endswith((\".mp3\", \".aac\")):\n",
        "        audio = AudioSegment.from_file(audio_path)\n",
        "        truncated_audio = audio[:(num_samples / samplerate) * 1000]  # Convert to milliseconds\n",
        "        output_path = os.path.join(output_folder, audio_file)\n",
        "        truncated_audio.export(output_path, format=\"flac\")  # Save as FLAC"
      ],
      "metadata": {
        "id": "iI0qcrcD4hrW"
      },
      "execution_count": 3,
      "outputs": []
    },
    {
      "cell_type": "markdown",
      "source": [
        "## Sample rate checking\n",
        "\n",
        "Defines a function to check if the sample rate of the input file is the same as the original file."
      ],
      "metadata": {
        "id": "lqomWO1fG0GB"
      }
    },
    {
      "cell_type": "code",
      "source": [
        "def check_sample_rate(audio_file, csv_path):\n",
        "    # Read the CSV to get the defined sample rate\n",
        "    df = pd.read_csv(csv_path)\n",
        "    defined_sample_rate = df['Sample Rate'].iloc[0]\n",
        "\n",
        "    # Determine the file path\n",
        "    audio_path = os.path.join(input_folder, audio_file)\n",
        "\n",
        "    # Check the sample rate of the audio file\n",
        "    if audio_file.endswith((\".wav\", \".flac\", \".aiff\", \".aif\")):\n",
        "        data, samplerate = sf.read(audio_path)\n",
        "    else:\n",
        "        audio = AudioSegment.from_file(audio_path)\n",
        "        samplerate = audio.frame_rate\n",
        "\n",
        "    return samplerate, defined_sample_rate"
      ],
      "metadata": {
        "id": "Rl3t_dv_G0UY"
      },
      "execution_count": 4,
      "outputs": []
    },
    {
      "cell_type": "markdown",
      "source": [
        "# Execution\n",
        "\n",
        "Execution of the above functions requires the CSV files and corresponding audio files in the input folder.\n",
        "\n",
        "Results are saved in the output folder in FLAC format."
      ],
      "metadata": {
        "id": "mBDc2v3EG194"
      }
    },
    {
      "cell_type": "code",
      "source": [
        "# Iterate through the list of audio files and apply truncation and sample rate check\n",
        "for audio_file, csv_path in audio_file_list:\n",
        "    truncate_audio_file(audio_file, csv_path)\n",
        "\n",
        "    # Check sample rate and print message if it doesn't match\n",
        "    found_sample_rate, defined_sample_rate = check_sample_rate(audio_file, csv_path)\n",
        "    if found_sample_rate != defined_sample_rate:\n",
        "        print(f\"Sample rate mismatch for {audio_file}: expected {defined_sample_rate}, found {found_sample_rate}\")\n",
        "    else:\n",
        "        print(f\"Processed {audio_file} successfully.\")\n"
      ],
      "metadata": {
        "colab": {
          "base_uri": "https://localhost:8080/"
        },
        "id": "dueLRvSAG0ug",
        "outputId": "ab728e78-e3c4-4736-e168-ae5b54de6ae7"
      },
      "execution_count": 5,
      "outputs": [
        {
          "output_type": "stream",
          "name": "stdout",
          "text": [
            "Processed 19. Pequeña Desviación En La Conducta De Los Reyes Magos_000.flac successfully.\n"
          ]
        }
      ]
    },
    {
      "cell_type": "markdown",
      "source": [
        "## Version history\n",
        "\n",
        "v1.0.0 Initial release on 2024-09-21."
      ],
      "metadata": {
        "id": "ruUS-I1oPhxc"
      }
    },
    {
      "cell_type": "markdown",
      "source": [
        "## To do\n",
        "\n",
        "-"
      ],
      "metadata": {
        "id": "-keWUi_rPhcc"
      }
    },
    {
      "cell_type": "markdown",
      "source": [
        "## Author information\n",
        "\n",
        "Wilki Amieva\n",
        "\n",
        "wilki@hgprods.com.ar."
      ],
      "metadata": {
        "id": "GuSGkx8YPhD0"
      }
    }
  ]
}
